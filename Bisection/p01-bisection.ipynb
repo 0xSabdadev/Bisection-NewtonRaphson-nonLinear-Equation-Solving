{
 "cells": [
  {
   "cell_type": "code",
   "execution_count": 13,
   "source": [
    "\r\n",
    "import numpy as np\r\n",
    "import math"
   ],
   "outputs": [],
   "metadata": {}
  },
  {
   "cell_type": "code",
   "execution_count": 14,
   "source": [
    "#membuat fungsi\r\n",
    "fungsi = input(\"Masukan persamaan : \")\r\n",
    "def f(x):\r\n",
    "    return eval(fungsi)"
   ],
   "outputs": [],
   "metadata": {}
  },
  {
   "cell_type": "code",
   "execution_count": 15,
   "source": [
    "while True:  \r\n",
    "    x1 = float(input(\"Masukan tebakan akar pertama : \"))\r\n",
    "    x2 = float(input(\"Masukan tebakan akar kedua   : \"))\r\n",
    "    if f(x1)*f(x2) < 0:\r\n",
    "        break\r\n",
    "    else:\r\n",
    "        print(f(x1)*f(x2))\r\n",
    "        print(\"Kemungkinan tidak ada akar pada interval akar-akar yang kamu masukkan, Silahkan masukan lagi\")"
   ],
   "outputs": [],
   "metadata": {}
  },
  {
   "cell_type": "code",
   "execution_count": 16,
   "source": [
    "\r\n",
    "e = float(input(\"Masukan toleransi maksimum    : \"))\r\n",
    "N = int(input(\"Masukan jumlah iterasi maksimum : \"))"
   ],
   "outputs": [],
   "metadata": {}
  },
  {
   "cell_type": "code",
   "execution_count": 17,
   "source": [
    "\r\n",
    "x1"
   ],
   "outputs": [
    {
     "output_type": "execute_result",
     "data": {
      "text/plain": [
       "0.07"
      ]
     },
     "metadata": {},
     "execution_count": 17
    }
   ],
   "metadata": {}
  },
  {
   "cell_type": "code",
   "execution_count": 18,
   "source": [
    "print(\"|x1\\t\\t\\t|x2\\t\\t\\t|xr\\t\\t\\t|iterasi|\")\r\n",
    "print(\"================================================================================|\")\r\n",
    "for i in range(N):\r\n",
    "    xr = (x1+x2)/2\r\n",
    "    #print(x1, \" \\t%-20s\", x2, \" \\t%-20s\", xr, \" \\t%-20s\", i+1)\r\n",
    "    print(\"|%0.20f |%-0.20f |%-0.20f |%-d\\t|\" %(x1,x2,xr,i+1))\r\n",
    "    if f(x1)*f(xr) < 0:\r\n",
    "        x2 = xr\r\n",
    "    elif f(x1)*f(xr)== 0:\r\n",
    "        print(\"Akar = \", xr)\r\n",
    "    else:\r\n",
    "        x1 = xr\r\n",
    "    if np.abs(x2-x1) < e:\r\n",
    "        break\r\n",
    "print(\"================================================================================|\")"
   ],
   "outputs": [
    {
     "output_type": "stream",
     "name": "stdout",
     "text": [
      "|x1\t\t\t|x2\t\t\t|xr\t\t\t|iterasi|\n",
      "================================================================================|\n",
      "|0.07000000000000000666 |2.00000000000000000000 |1.03499999999999992006 |1\t|\n",
      "|1.03499999999999992006 |2.00000000000000000000 |1.51750000000000007105 |2\t|\n",
      "|1.03499999999999992006 |1.51750000000000007105 |1.27625000000000010658 |3\t|\n",
      "|1.27625000000000010658 |1.51750000000000007105 |1.39687500000000008882 |4\t|\n",
      "|1.39687500000000008882 |1.51750000000000007105 |1.45718750000000007994 |5\t|\n",
      "================================================================================|\n"
     ]
    }
   ],
   "metadata": {}
  }
 ],
 "metadata": {
  "orig_nbformat": 4,
  "language_info": {
   "name": "python",
   "version": "3.8.5",
   "mimetype": "text/x-python",
   "codemirror_mode": {
    "name": "ipython",
    "version": 3
   },
   "pygments_lexer": "ipython3",
   "nbconvert_exporter": "python",
   "file_extension": ".py"
  },
  "kernelspec": {
   "name": "python3",
   "display_name": "Python 3.8.5 64-bit ('base': conda)"
  },
  "interpreter": {
   "hash": "d6fc47ff5d7ca068a0dac20011dd949547c5eb998df145d6fe0deb59f73ca524"
  }
 },
 "nbformat": 4,
 "nbformat_minor": 2
}