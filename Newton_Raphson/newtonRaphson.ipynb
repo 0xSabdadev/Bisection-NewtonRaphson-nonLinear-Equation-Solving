{
 "cells": [
  {
   "cell_type": "code",
   "execution_count": 9,
   "source": [
    "import numpy as np\r\n",
    "import warnings\r\n",
    "import sympy\r\n",
    "import math\r\n",
    "import cowsay"
   ],
   "outputs": [],
   "metadata": {}
  },
  {
   "cell_type": "code",
   "execution_count": 10,
   "source": [
    "def newton_raphson(f,fder,x0,eps=0.0001,maxiter=50):\r\n",
    "    iterator =0\r\n",
    "    while iterator < maxiter:\r\n",
    "        x_f =f(x0)\r\n",
    "        x_fder =fder(x0)\r\n",
    "        iterator=iterator+1\r\n",
    "        x1=x0 - (x_f/x_fder)\r\n",
    "        delta = abs(x1-x0)\r\n",
    "        if delta<=eps:\r\n",
    "            return x1\r\n",
    "        x0=x1\r\n",
    "        print(\"Iteration \" + str(iterator) + \": \" + str(x0))\r\n",
    "    return x0\r\n",
    "\r\n",
    "def func(x):\r\n",
    "    return math.exp(x) + x**2 - 3*x -2\r\n",
    "\r\n",
    "def dfunc(x):\r\n",
    "    return math.exp(x) + 2*x -3\r\n",
    "\r\n",
    "r_n = newton_raphson(func,dfunc,0.5)\r\n",
    "print(r_n)"
   ],
   "outputs": [
    {
     "output_type": "stream",
     "name": "stdout",
     "text": [
      "Iteration 1: -4.0584278117019945\n",
      "Iteration 2: -1.6562290632789072\n",
      "Iteration 3: -0.6919977392601224\n",
      "Iteration 4: -0.4202195067143378\n",
      "Iteration 5: -0.39064687066615095\n",
      "Iteration 6: -0.3902717468398876\n",
      "-0.3902716861601105\n"
     ]
    }
   ],
   "metadata": {}
  }
 ],
 "metadata": {
  "orig_nbformat": 4,
  "language_info": {
   "name": "python",
   "version": "3.8.5",
   "mimetype": "text/x-python",
   "codemirror_mode": {
    "name": "ipython",
    "version": 3
   },
   "pygments_lexer": "ipython3",
   "nbconvert_exporter": "python",
   "file_extension": ".py"
  },
  "kernelspec": {
   "name": "python3",
   "display_name": "Python 3.8.5 64-bit ('base': conda)"
  },
  "interpreter": {
   "hash": "d6fc47ff5d7ca068a0dac20011dd949547c5eb998df145d6fe0deb59f73ca524"
  }
 },
 "nbformat": 4,
 "nbformat_minor": 2
}