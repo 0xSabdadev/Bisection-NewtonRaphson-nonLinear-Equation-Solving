{
 "cells": [
  {
   "cell_type": "code",
   "execution_count": 1,
   "source": [
    "import numpy as np\r\n",
    "import warnings\r\n",
    "import sympy\r\n",
    "import math\r\n",
    "import cowsay"
   ],
   "outputs": [],
   "metadata": {}
  },
  {
   "cell_type": "code",
   "execution_count": 5,
   "source": [
    "def newton(f,f_prime,x0,tol=1.e-5):\r\n",
    "    \"\"\"menggunakan metode newton Raphson\"\"\"\r\n",
    "    MAX_STEPS = 200\r\n",
    "    x=x0\r\n",
    "    x_array = [x0]\r\n",
    "    for k in range(1,MAX_STEPS+1):\r\n",
    "        x=x-f(x)/f_prime(x)\r\n",
    "        x_array.append(x)\r\n",
    "        if np.abs(f(x))<tol:\r\n",
    "            break\r\n",
    "        if k == MAX_STEPS:\r\n",
    "            warnings.warn(\"Max exceeded\")\r\n",
    "    return x,np.array(x_array)\r\n",
    "#mengatur fungsi sebaai fungsi lambda inline\r\n",
    "f=lambda x: math.exp(x) + x**2 - 3*x -2\r\n",
    "f_prime = lambda x: math.exp(x) + 2*x -3\r\n",
    "\r\n",
    "x0=-1.0\r\n",
    "x,x_array = newton(f,f_prime,x0,tol=1.e-5)\r\n",
    "print('x = {}, f(x) = {}, Nsteps = {}'.format(x,f(x),len(x_array)))\r\n",
    "print(f_prime(x)*np.finfo('float').eps)\r\n",
    "\r\n",
    "f=lambda x:"
   ],
   "outputs": [
    {
     "output_type": "stream",
     "name": "stdout",
     "text": [
      "x = -0.3902716861767239, f(x) = 5.156763904778927e-11, Nsteps = 5\n",
      "-6.89153272196047e-16\n"
     ]
    }
   ],
   "metadata": {}
  }
 ],
 "metadata": {
  "orig_nbformat": 4,
  "language_info": {
   "name": "python",
   "version": "3.8.5",
   "mimetype": "text/x-python",
   "codemirror_mode": {
    "name": "ipython",
    "version": 3
   },
   "pygments_lexer": "ipython3",
   "nbconvert_exporter": "python",
   "file_extension": ".py"
  },
  "kernelspec": {
   "name": "python3",
   "display_name": "Python 3.8.5 64-bit ('base': conda)"
  },
  "interpreter": {
   "hash": "d6fc47ff5d7ca068a0dac20011dd949547c5eb998df145d6fe0deb59f73ca524"
  }
 },
 "nbformat": 4,
 "nbformat_minor": 2
}